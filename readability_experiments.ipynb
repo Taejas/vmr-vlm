{
 "cells": [
  {
   "cell_type": "code",
   "execution_count": null,
   "metadata": {
    "colab": {
     "base_uri": "https://localhost:8080/"
    },
    "executionInfo": {
     "elapsed": 22412,
     "status": "ok",
     "timestamp": 1712738289109,
     "user": {
      "displayName": "Neeharika Gupta",
      "userId": "13434636909198909500"
     },
     "user_tz": 420
    },
    "id": "lAidjigVODhP",
    "outputId": "ad5b7b55-cda5-484a-ef80-f204b210404b"
   },
   "outputs": [],
   "source": [
    "!pip install py-readability-metrics\n",
    "!python -m nltk.downloader punkt\n",
    "!pip install textstat"
   ]
  },
  {
   "cell_type": "code",
   "execution_count": 2,
   "metadata": {
    "executionInfo": {
     "elapsed": 143,
     "status": "ok",
     "timestamp": 1713864010434,
     "user": {
      "displayName": "Vishesh Agrawal",
      "userId": "07122563535455778144"
     },
     "user_tz": 420
    },
    "id": "6NjaRcKmOKyE"
   },
   "outputs": [],
   "source": [
    "from readability import Readability\n",
    "import pandas as pd\n",
    "import textstat\n",
    "from tqdm import tqdm"
   ]
  },
  {
   "cell_type": "code",
   "execution_count": 7,
   "metadata": {
    "executionInfo": {
     "elapsed": 1882,
     "status": "ok",
     "timestamp": 1713864054048,
     "user": {
      "displayName": "Vishesh Agrawal",
      "userId": "07122563535455778144"
     },
     "user_tz": 420
    },
    "id": "mpTKuNUNOSen"
   },
   "outputs": [],
   "source": [
    "data=pd.read_csv('/content/drive/MyDrive/Project/EndTerm/Postprocessed/postprocessed_annotations_100.csv')"
   ]
  },
  {
   "cell_type": "code",
   "execution_count": null,
   "metadata": {
    "colab": {
     "base_uri": "https://localhost:8080/"
    },
    "executionInfo": {
     "elapsed": 212,
     "status": "ok",
     "timestamp": 1712723222477,
     "user": {
      "displayName": "Neeharika Gupta",
      "userId": "13434636909198909500"
     },
     "user_tz": 420
    },
    "id": "OCQOBueCPFxr",
    "outputId": "05683766-8b39-442c-d2f0-ad5dca52fe0a"
   },
   "outputs": [
    {
     "name": "stderr",
     "output_type": "stream",
     "text": [
      "100%|██████████| 100/100 [00:00<00:00, 1936.01it/s]\n"
     ]
    }
   ],
   "source": [
    "flesch_reading_ease_score=[]\n",
    "\n",
    "for i in tqdm(range(len(data))):\n",
    "  sc = textstat.flesch_reading_ease(data['ChatGPT-4'][i])\n",
    "  flesch_reading_ease_score.append(sc)"
   ]
  },
  {
   "cell_type": "code",
   "execution_count": null,
   "metadata": {
    "colab": {
     "base_uri": "https://localhost:8080/"
    },
    "executionInfo": {
     "elapsed": 250,
     "status": "ok",
     "timestamp": 1712723238545,
     "user": {
      "displayName": "Neeharika Gupta",
      "userId": "13434636909198909500"
     },
     "user_tz": 420
    },
    "id": "SdgwhGPWPhkl",
    "outputId": "6708a59d-4b5c-4523-d4cd-a081e15d3639"
   },
   "outputs": [
    {
     "data": {
      "text/plain": [
       "75.29350000000001"
      ]
     },
     "execution_count": 24,
     "metadata": {},
     "output_type": "execute_result"
    }
   ],
   "source": [
    "sum(flesch_reading_ease_score)/len(flesch_reading_ease_score)"
   ]
  },
  {
   "cell_type": "code",
   "execution_count": null,
   "metadata": {
    "colab": {
     "base_uri": "https://localhost:8080/"
    },
    "executionInfo": {
     "elapsed": 164,
     "status": "ok",
     "timestamp": 1712723275975,
     "user": {
      "displayName": "Neeharika Gupta",
      "userId": "13434636909198909500"
     },
     "user_tz": 420
    },
    "id": "ZFdEZjwlQUfk",
    "outputId": "0e4d7bb8-a445-4559-95a5-1680a9e19044"
   },
   "outputs": [],
   "source": [
    "flesch_kincaid_grade_score=[]\n",
    "\n",
    "for i in tqdm(range(len(data))):\n",
    "  sc = textstat.flesch_kincaid_grade(data['ChatGPT-4'][i])\n",
    "  flesch_kincaid_grade_score.append(sc)"
   ]
  },
  {
   "cell_type": "code",
   "execution_count": null,
   "metadata": {
    "colab": {
     "base_uri": "https://localhost:8080/"
    },
    "executionInfo": {
     "elapsed": 3,
     "status": "ok",
     "timestamp": 1712723291954,
     "user": {
      "displayName": "Neeharika Gupta",
      "userId": "13434636909198909500"
     },
     "user_tz": 420
    },
    "id": "aiJujVB6Qy7S",
    "outputId": "603c420f-b9e4-4f0e-f7e8-4313c8aeb068"
   },
   "outputs": [
    {
     "data": {
      "text/plain": [
       "6.895000000000001"
      ]
     },
     "execution_count": 26,
     "metadata": {},
     "output_type": "execute_result"
    }
   ],
   "source": [
    "sum(flesch_kincaid_grade_score)/len(flesch_kincaid_grade_score)"
   ]
  },
  {
   "cell_type": "code",
   "execution_count": null,
   "metadata": {
    "colab": {
     "base_uri": "https://localhost:8080/"
    },
    "executionInfo": {
     "elapsed": 187,
     "status": "ok",
     "timestamp": 1712723341570,
     "user": {
      "displayName": "Neeharika Gupta",
      "userId": "13434636909198909500"
     },
     "user_tz": 420
    },
    "id": "KM8yYtVSQ22e",
    "outputId": "dbd4740d-e1e4-4398-922f-64adf5dc447c"
   },
   "outputs": [
    {
     "name": "stderr",
     "output_type": "stream",
     "text": [
      "100%|██████████| 100/100 [00:00<00:00, 6461.32it/s]\n"
     ]
    }
   ],
   "source": [
    "gunning_fog_score=[]\n",
    "\n",
    "for i in tqdm(range(len(data))):\n",
    "  sc = textstat.gunning_fog(data['ChatGPT-4'][i])\n",
    "  gunning_fog_score.append(sc)"
   ]
  },
  {
   "cell_type": "code",
   "execution_count": null,
   "metadata": {
    "colab": {
     "base_uri": "https://localhost:8080/"
    },
    "executionInfo": {
     "elapsed": 2,
     "status": "ok",
     "timestamp": 1712723342546,
     "user": {
      "displayName": "Neeharika Gupta",
      "userId": "13434636909198909500"
     },
     "user_tz": 420
    },
    "id": "IlOI7eXSQ_rR",
    "outputId": "5731f62e-a8df-4142-d514-6dfb9e0feac2"
   },
   "outputs": [
    {
     "data": {
      "text/plain": [
       "8.703800000000003"
      ]
     },
     "execution_count": 28,
     "metadata": {},
     "output_type": "execute_result"
    }
   ],
   "source": [
    "sum(gunning_fog_score)/len(gunning_fog_score)"
   ]
  }
 ],
 "metadata": {
  "colab": {
   "provenance": []
  },
  "kernelspec": {
   "display_name": "Python 3 (ipykernel)",
   "language": "python",
   "name": "python3"
  },
  "language_info": {
   "codemirror_mode": {
    "name": "ipython",
    "version": 3
   },
   "file_extension": ".py",
   "mimetype": "text/x-python",
   "name": "python",
   "nbconvert_exporter": "python",
   "pygments_lexer": "ipython3",
   "version": "3.11.5"
  }
 },
 "nbformat": 4,
 "nbformat_minor": 1
}
